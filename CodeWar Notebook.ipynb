{
 "cells": [
  {
   "cell_type": "markdown",
   "metadata": {},
   "source": [
    "# Codewar Level 8\n",
    "\n",
    "Date: Dec.6th, 2019"
   ]
  },
  {
   "cell_type": "markdown",
   "metadata": {},
   "source": [
    "## Practice1: Like System"
   ]
  },
  {
   "cell_type": "markdown",
   "metadata": {},
   "source": [
    "You probably know the \"like\" system from Facebook and other pages. People can \"like\" blog posts, pictures or other items. We want to create the text that should be displayed next to such an item.\n",
    "\n",
    "Implement a function ``likes :: [String] -> String``, which must take in input array, containing the names of people who like an item. It must return the display text as shown in the examples:\n",
    "\n",
    "```\n",
    "likes [] // must be \"no one likes this\"\n",
    "likes [\"Peter\"] // must be \"Peter likes this\"\n",
    "likes [\"Jacob\", \"Alex\"] // must be \"Jacob and Alex like this\"\n",
    "likes [\"Max\", \"John\", \"Mark\"] // must be \"Max, John and Mark like this\"\n",
    "likes [\"Alex\", \"Jacob\", \"Mark\", \"Max\"] // must be \"Alex, Jacob and 2 others like this\"\n",
    "\n",
    "```"
   ]
  },
  {
   "cell_type": "markdown",
   "metadata": {},
   "source": [
    "### My Solution\n",
    "\n",
    "I use the if statements to distinguish between different situations, and use concatenation to produce differnet formats."
   ]
  },
  {
   "cell_type": "code",
   "execution_count": 16,
   "metadata": {},
   "outputs": [],
   "source": [
    "def likes(names):\n",
    "    length = len(names)\n",
    "    value = \"\"\n",
    "    if length == 0:\n",
    "        value = \"no one likes this\"\n",
    "    elif length == 1:\n",
    "        value = names[0] + \" likes this\"\n",
    "    elif length == 2:\n",
    "        value = names[0] + \" and \" + names[1] + \" like this\"\n",
    "    elif length == 3:\n",
    "        value = names[0] + \", \" + names[1] + \" and \" + names[2] + \" like this\"\n",
    "    elif length >= 4:\n",
    "        value = names[0] + \", \" + names[1] + \" and \" + str((length - 2)) + \" others like this\"\n",
    "    return value"
   ]
  },
  {
   "cell_type": "code",
   "execution_count": 17,
   "metadata": {},
   "outputs": [
    {
     "name": "stdout",
     "output_type": "stream",
     "text": [
      "no one likes this\n",
      "Peter likes this\n",
      "Jacob and Alex like this\n",
      "Max, John and Mark like this\n",
      "Alex, Jacob and 2 others like this\n"
     ]
    }
   ],
   "source": [
    "print(likes([]))\n",
    "print(likes([\"Peter\"]))\n",
    "print(likes([\"Jacob\", \"Alex\"]))\n",
    "print(likes([\"Max\", \"John\", \"Mark\"]))\n",
    "print(likes([\"Alex\", \"Jacob\", \"Mark\", \"Max\"]))"
   ]
  },
  {
   "cell_type": "markdown",
   "metadata": {},
   "source": [
    "## Better Solution\n",
    "\n",
    "The better solution is to set up a dictionary and return depends on the length, and use the `str.format()` method to concisely give the format. Here the `*` represent `*args`, meaning a variable number of **non-keyworded** arguments. For more information on `*args` and `**kwargs`, see the [Yassob's article](http://book.pythontips.com/en/latest/args_and_kwargs.html)"
   ]
  },
  {
   "cell_type": "code",
   "execution_count": 14,
   "metadata": {},
   "outputs": [],
   "source": [
    "sdef likesBetter(names):\n",
    "    n = len(names)\n",
    "    return{\n",
    "        0: 'no one likes this',\n",
    "        1: '{} likes this',\n",
    "        2: '{} and {} like this',\n",
    "        3: '{}, {} and {} like this',\n",
    "        4: '{}, {} and {others} others like this'\n",
    "    }[min(4,n)].format(*names[:3],others = n-2)"
   ]
  },
  {
   "cell_type": "code",
   "execution_count": 15,
   "metadata": {},
   "outputs": [
    {
     "name": "stdout",
     "output_type": "stream",
     "text": [
      "no one likes this\n",
      "Peter likes this\n",
      "Jacob and Alex like this\n",
      "Max, John and Mark like this\n",
      "Alex, Jacob and 2 others like this\n"
     ]
    }
   ],
   "source": [
    "print(likesBetter([]))\n",
    "print(likesBetter([\"Peter\"]))\n",
    "print(likesBetter([\"Jacob\", \"Alex\"]))\n",
    "print(likesBetter([\"Max\", \"John\", \"Mark\"]))\n",
    "print(likesBetter([\"Alex\", \"Jacob\", \"Mark\", \"Max\"]))"
   ]
  }
 ],
 "metadata": {
  "kernelspec": {
   "display_name": "Python 3",
   "language": "python",
   "name": "python3"
  },
  "language_info": {
   "codemirror_mode": {
    "name": "ipython",
    "version": 3
   },
   "file_extension": ".py",
   "mimetype": "text/x-python",
   "name": "python",
   "nbconvert_exporter": "python",
   "pygments_lexer": "ipython3",
   "version": "3.7.4"
  }
 },
 "nbformat": 4,
 "nbformat_minor": 2
}
